{
 "cells": [
  {
   "cell_type": "code",
   "execution_count": 1,
   "id": "ff48d2c4",
   "metadata": {},
   "outputs": [
    {
     "name": "stdout",
     "output_type": "stream",
     "text": [
      "Overwriting test.txt\n"
     ]
    }
   ],
   "source": [
    "%%writefile test.txt\n",
    "\n",
    "Hello \n",
    "Hi\n",
    "Goodbye\n",
    "Farewell"
   ]
  },
  {
   "cell_type": "code",
   "execution_count": 2,
   "id": "0ea08a67",
   "metadata": {},
   "outputs": [],
   "source": [
    "test=open(\"test.txt\")"
   ]
  },
  {
   "cell_type": "code",
   "execution_count": 3,
   "id": "60a4b321",
   "metadata": {},
   "outputs": [
    {
     "data": {
      "text/plain": [
       "'C:\\\\Users\\\\Emina'"
      ]
     },
     "execution_count": 3,
     "metadata": {},
     "output_type": "execute_result"
    }
   ],
   "source": [
    "pwd"
   ]
  },
  {
   "cell_type": "code",
   "execution_count": 4,
   "id": "a6f6300b",
   "metadata": {},
   "outputs": [
    {
     "data": {
      "text/plain": [
       "'\\nHello \\nHi\\nGoodbye\\nFarewell\\n'"
      ]
     },
     "execution_count": 4,
     "metadata": {},
     "output_type": "execute_result"
    }
   ],
   "source": [
    "test.read()"
   ]
  },
  {
   "cell_type": "code",
   "execution_count": 5,
   "id": "c2ef21f1",
   "metadata": {},
   "outputs": [
    {
     "data": {
      "text/plain": [
       "''"
      ]
     },
     "execution_count": 5,
     "metadata": {},
     "output_type": "execute_result"
    }
   ],
   "source": [
    "test.read()"
   ]
  },
  {
   "cell_type": "code",
   "execution_count": 6,
   "id": "5356aeff",
   "metadata": {},
   "outputs": [
    {
     "data": {
      "text/plain": [
       "0"
      ]
     },
     "execution_count": 6,
     "metadata": {},
     "output_type": "execute_result"
    }
   ],
   "source": [
    "test.seek(0)"
   ]
  },
  {
   "cell_type": "code",
   "execution_count": 7,
   "id": "e78fc035",
   "metadata": {},
   "outputs": [],
   "source": [
    "contents=test.read()"
   ]
  },
  {
   "cell_type": "code",
   "execution_count": 8,
   "id": "a648ae7d",
   "metadata": {},
   "outputs": [
    {
     "data": {
      "text/plain": [
       "'\\nHello \\nHi\\nGoodbye\\nFarewell\\n'"
      ]
     },
     "execution_count": 8,
     "metadata": {},
     "output_type": "execute_result"
    }
   ],
   "source": [
    "contents"
   ]
  },
  {
   "cell_type": "code",
   "execution_count": 9,
   "id": "1b48baa0",
   "metadata": {},
   "outputs": [
    {
     "data": {
      "text/plain": [
       "0"
      ]
     },
     "execution_count": 9,
     "metadata": {},
     "output_type": "execute_result"
    }
   ],
   "source": [
    "test.seek(0)"
   ]
  },
  {
   "cell_type": "code",
   "execution_count": 10,
   "id": "16807fee",
   "metadata": {},
   "outputs": [
    {
     "data": {
      "text/plain": [
       "['\\n', 'Hello \\n', 'Hi\\n', 'Goodbye\\n', 'Farewell\\n']"
      ]
     },
     "execution_count": 10,
     "metadata": {},
     "output_type": "execute_result"
    }
   ],
   "source": [
    "test.readlines()"
   ]
  },
  {
   "cell_type": "code",
   "execution_count": 11,
   "id": "1b24f17b",
   "metadata": {},
   "outputs": [],
   "source": [
    "test.close()"
   ]
  },
  {
   "cell_type": "code",
   "execution_count": 12,
   "id": "21c8d925",
   "metadata": {},
   "outputs": [],
   "source": [
    "with open(\"test.txt\") as my_new_file:\n",
    "    contents=my_new_file.read()"
   ]
  },
  {
   "cell_type": "code",
   "execution_count": 13,
   "id": "d10ec643",
   "metadata": {},
   "outputs": [
    {
     "data": {
      "text/plain": [
       "'\\nHello \\nHi\\nGoodbye\\nFarewell\\n'"
      ]
     },
     "execution_count": 13,
     "metadata": {},
     "output_type": "execute_result"
    }
   ],
   "source": [
    "contents"
   ]
  },
  {
   "cell_type": "code",
   "execution_count": 14,
   "id": "4d7e6129",
   "metadata": {},
   "outputs": [],
   "source": [
    "with open(\"test.txt\", mode=\"r\") as myfile:\n",
    "    contents=myfile.read()"
   ]
  },
  {
   "cell_type": "code",
   "execution_count": 15,
   "id": "10cc8123",
   "metadata": {},
   "outputs": [
    {
     "name": "stdout",
     "output_type": "stream",
     "text": [
      "\n",
      "Hello \n",
      "Hi\n",
      "Goodbye\n",
      "Farewell\n",
      "\n"
     ]
    }
   ],
   "source": [
    "with open(\"test.txt\", mode=\"r\") as myfile:\n",
    "    print(myfile.read())\n",
    "    "
   ]
  },
  {
   "cell_type": "code",
   "execution_count": 16,
   "id": "ee1325cb",
   "metadata": {},
   "outputs": [],
   "source": [
    "with open(\"test.txt\", mode=\"a\") as myfile:\n",
    "    myfile.write(\"Whatever.\")"
   ]
  },
  {
   "cell_type": "code",
   "execution_count": 17,
   "id": "1b919f99",
   "metadata": {},
   "outputs": [
    {
     "name": "stdout",
     "output_type": "stream",
     "text": [
      "\n",
      "Hello \n",
      "Hi\n",
      "Goodbye\n",
      "Farewell\n",
      "Whatever.\n"
     ]
    }
   ],
   "source": [
    "with open(\"test.txt\", mode=\"r\") as myfile:\n",
    "    print(myfile.read())"
   ]
  },
  {
   "cell_type": "code",
   "execution_count": 18,
   "id": "aef2a706",
   "metadata": {},
   "outputs": [],
   "source": [
    "with open(\"dsadsadas.txt\", mode=\"w\") as f:\n",
    "    f.write(\"I created this file!\")"
   ]
  },
  {
   "cell_type": "code",
   "execution_count": 19,
   "id": "84bd5f6c",
   "metadata": {},
   "outputs": [
    {
     "name": "stdout",
     "output_type": "stream",
     "text": [
      "I created this file!\n"
     ]
    }
   ],
   "source": [
    "with open(\"dsadsadas.txt\", mode=\"r\") as f:\n",
    "    print(f.read())"
   ]
  }
 ],
 "metadata": {
  "kernelspec": {
   "display_name": "Python 3 (ipykernel)",
   "language": "python",
   "name": "python3"
  },
  "language_info": {
   "codemirror_mode": {
    "name": "ipython",
    "version": 3
   },
   "file_extension": ".py",
   "mimetype": "text/x-python",
   "name": "python",
   "nbconvert_exporter": "python",
   "pygments_lexer": "ipython3",
   "version": "3.9.7"
  }
 },
 "nbformat": 4,
 "nbformat_minor": 5
}
